{
 "cells": [
  {
   "cell_type": "code",
   "execution_count": 24,
   "metadata": {},
   "outputs": [],
   "source": [
    "from Crypto.PublicKey import RSA\n",
    "from hashlib import sha512"
   ]
  },
  {
   "cell_type": "code",
   "execution_count": 25,
   "metadata": {},
   "outputs": [],
   "source": [
    "keyPair = RSA.generate(bits=1024)"
   ]
  },
  {
   "cell_type": "code",
   "execution_count": 26,
   "metadata": {},
   "outputs": [
    {
     "name": "stdout",
     "output_type": "stream",
     "text": [
      "Public key (hex): \n",
      "n = 0xa12182549a97ca59bf9aae59fc820fdaf1683ba5a52c9d52f639cc4e8272088fe4d054316ff005d9559d7be88c858550832ce5bcb2f6b118bc9761a4b1853b87d145948c8d46fa2b24bff16293aec1e54a37ab96748e7508be5679398a4bad9995eb7f76d4d0b1f326bc5835b17b057fa3665033d94eff63489a36decf6bea97 \n",
      "e = 0x10001\n",
      "\n",
      "Private key (hex): \n",
      "n = 0xa12182549a97ca59bf9aae59fc820fdaf1683ba5a52c9d52f639cc4e8272088fe4d054316ff005d9559d7be88c858550832ce5bcb2f6b118bc9761a4b1853b87d145948c8d46fa2b24bff16293aec1e54a37ab96748e7508be5679398a4bad9995eb7f76d4d0b1f326bc5835b17b057fa3665033d94eff63489a36decf6bea97 \n",
      "d = 0xa382258744f91355cfa15f9be128fa7deacb22fc0c89217cb670206aeae45cdbe80d9fe22afd1e7254f6e26e316aacc5eed6f8aa6bd0fa15680b1602d241a90da34f7927247b6b52e59e26639abade8075c314aaf54e3d554ba607c21424188e9b319b4c84c13ab6801235b224b0882b2a5fcd1c4e6975d8f9671bea5a2c579\n"
     ]
    }
   ],
   "source": [
    "print(f\"Public key (hex): \\nn = {hex(keyPair.n)} \\ne = {hex(keyPair.e)}\\n\")\n",
    "print(f\"Private key (hex): \\nn = {hex(keyPair.n)} \\nd = {hex(keyPair.d)}\")"
   ]
  },
  {
   "cell_type": "code",
   "execution_count": 27,
   "metadata": {},
   "outputs": [
    {
     "name": "stdout",
     "output_type": "stream",
     "text": [
      "Public key (dec): \n",
      "n = 113149962359188218229521652464306503115262349327167867330025875359132993506119469793127989909124153398064598829418545638593372073577423376251553519057981590127503632666295243210384348859364668813177596981530074884123562436583047537782530436933926559122295280183944811862715191417308988334527924624167386475159 \n",
      "e = 65537\n",
      "\n",
      "Private key (dec): \n",
      "n = 113149962359188218229521652464306503115262349327167867330025875359132993506119469793127989909124153398064598829418545638593372073577423376251553519057981590127503632666295243210384348859364668813177596981530074884123562436583047537782530436933926559122295280183944811862715191417308988334527924624167386475159 \n",
      "d = 7176218297236154066725769389320383603133923661113161123598159069384260608636122742803858737160299427789729542616814699281525718660063174441759345132741815927663404426614013864453601629808753537910970862183388652278316908840466835939150918778854837811091230040238964800948095911665202936614493140988450751865\n",
      "\n"
     ]
    }
   ],
   "source": [
    "print(f\"Public key (dec): \\nn = {(keyPair.n)} \\ne = {(keyPair.e)}\\n\")\n",
    "print(f\"Private key (dec): \\nn = {(keyPair.n)} \\nd = {(keyPair.d)}\\n\")"
   ]
  },
  {
   "cell_type": "code",
   "execution_count": 28,
   "metadata": {},
   "outputs": [],
   "source": [
    "msg = b'A message for signing'"
   ]
  },
  {
   "cell_type": "code",
   "execution_count": 29,
   "metadata": {},
   "outputs": [
    {
     "data": {
      "text/plain": [
       "6866940647303413929360886659707398310585944768741832085930808557104870898512982844426348355404789362574208870076646140489606711762682989682230668797895224"
      ]
     },
     "execution_count": 29,
     "metadata": {},
     "output_type": "execute_result"
    }
   ],
   "source": [
    "hashh = int.from_bytes(sha512(msg).digest(), byteorder='big')\n",
    "hashh"
   ]
  },
  {
   "cell_type": "code",
   "execution_count": 30,
   "metadata": {},
   "outputs": [
    {
     "data": {
      "text/plain": [
       "'0x779ffd4f8bf8cabc1bc7f4ee0098f48be7f630305c680713105a1b711a5bd792cd4c965a8ed17fa9b797af2e4f52c178507ec899c74e1d2ed30eecbc0f4e4bf38bc2eed6f609512fc8a77d4b8444e985288bc7edfc32636157cf17c1c2992d9d4e0e47c9ebd007708d97339e1b1a83c708ad5f1684963895875a9a45efef0bd8'"
      ]
     },
     "execution_count": 30,
     "metadata": {},
     "output_type": "execute_result"
    }
   ],
   "source": [
    "signature = pow(hashh, keyPair.d, keyPair.n)\n",
    "hex(signature)"
   ]
  },
  {
   "cell_type": "code",
   "execution_count": 31,
   "metadata": {},
   "outputs": [
    {
     "data": {
      "text/plain": [
       "258"
      ]
     },
     "execution_count": 31,
     "metadata": {},
     "output_type": "execute_result"
    }
   ],
   "source": [
    "len(hex(signature))"
   ]
  },
  {
   "cell_type": "code",
   "execution_count": 32,
   "metadata": {},
   "outputs": [],
   "source": [
    "hashFromSignature = pow(signature, keyPair.e, keyPair.n)"
   ]
  },
  {
   "cell_type": "code",
   "execution_count": 33,
   "metadata": {},
   "outputs": [
    {
     "name": "stdout",
     "output_type": "stream",
     "text": [
      "[1, 2, 3]\n"
     ]
    }
   ],
   "source": [
    "l1 = [1,2,3,4,5,6]\n",
    "print(l1[:3])"
   ]
  },
  {
   "cell_type": "code",
   "execution_count": 34,
   "metadata": {},
   "outputs": [
    {
     "name": "stdout",
     "output_type": "stream",
     "text": [
      "['1', '2', '3', '4', '5', '6']\n"
     ]
    }
   ],
   "source": [
    "l2 = [str(x) for x in l1]\n",
    "print(l2)"
   ]
  }
 ],
 "metadata": {
  "kernelspec": {
   "display_name": "Python 3",
   "language": "python",
   "name": "python3"
  },
  "language_info": {
   "codemirror_mode": {
    "name": "ipython",
    "version": 3
   },
   "file_extension": ".py",
   "mimetype": "text/x-python",
   "name": "python",
   "nbconvert_exporter": "python",
   "pygments_lexer": "ipython3",
   "version": "3.10.4"
  }
 },
 "nbformat": 4,
 "nbformat_minor": 2
}
